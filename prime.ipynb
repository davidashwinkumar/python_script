{
 "cells": [
  {
   "cell_type": "code",
   "execution_count": 1,
   "id": "bfcda7a0-f6a2-4f81-9ed7-acd8a1429884",
   "metadata": {},
   "outputs": [
    {
     "data": {
      "text/plain": [
       "'marupirdahses'"
      ]
     },
     "execution_count": 1,
     "metadata": {},
     "output_type": "execute_result"
    }
   ],
   "source": [
    "x=\"seshadripuram\"\n",
    "x[::-1]"
   ]
  },
  {
   "cell_type": "markdown",
   "id": "7c853c58-ecc5-4201-8a75-2574c0cf4f3b",
   "metadata": {},
   "source": [
    "<H1>PALINDROME</H1>"
   ]
  },
  {
   "cell_type": "code",
   "execution_count": 7,
   "id": "0a4fd33f-d8e7-405e-bc80-db49ae5cfd7d",
   "metadata": {},
   "outputs": [
    {
     "name": "stdin",
     "output_type": "stream",
     "text": [
      "Enter a word:  MALAYALAM\n"
     ]
    },
    {
     "name": "stdout",
     "output_type": "stream",
     "text": [
      "'MALAYALAM' is a palindrome.\n"
     ]
    }
   ],
   "source": [
    "def is_palindrome(word):\n",
    "    return word == word[::-1]\n",
    "word_to_check = input(\"Enter a word: \")  \n",
    "if is_palindrome(word_to_check):  \n",
    "    print(f\"'{word_to_check}' is a palindrome.\")  \n",
    "else:\n",
    "    print(f\"'{word_to_check}' is not a palindrome.\")"
   ]
  },
  {
   "cell_type": "markdown",
   "id": "3358d439-4b55-4723-b27f-2d01b978bbde",
   "metadata": {},
   "source": [
    "<h1>ANANAMAOUS FUNCTION</h1>"
   ]
  },
  {
   "cell_type": "code",
   "execution_count": 10,
   "id": "e006bc53-6105-4fbf-93fe-c75947d6d8fd",
   "metadata": {},
   "outputs": [
    {
     "data": {
      "text/plain": [
       "4"
      ]
     },
     "execution_count": 10,
     "metadata": {},
     "output_type": "execute_result"
    }
   ],
   "source": [
    "a=lambda x : x**x\n",
    "a(2)"
   ]
  },
  {
   "cell_type": "code",
   "execution_count": 15,
   "id": "4b14b5c6-9d4d-435f-83b3-3a6d1d76dd48",
   "metadata": {},
   "outputs": [
    {
     "data": {
      "text/plain": [
       "'palindrome'"
      ]
     },
     "execution_count": 15,
     "metadata": {},
     "output_type": "execute_result"
    }
   ],
   "source": [
    "palindrome = lambda x: \"palindrome\" if x == x[::-1] else \"not a palindrome\"\n",
    "palindrome(\"malayalam\")"
   ]
  },
  {
   "cell_type": "code",
   "execution_count": 19,
   "id": "057a81ad-7e0e-43f9-ad2b-95c3dae1d367",
   "metadata": {},
   "outputs": [
    {
     "name": "stdout",
     "output_type": "stream",
     "text": [
      "not divisible by 2\n"
     ]
    }
   ],
   "source": [
    "divisible_by_2 = lambda x: \"divisible by 2\" if x % 2 == 0 else \"not divisible by 2\"\n",
    "print(divisible_by_2(15))"
   ]
  },
  {
   "cell_type": "code",
   "execution_count": 5,
   "id": "95434ef2-1e1c-4692-a573-d01c9cbb67c4",
   "metadata": {},
   "outputs": [
    {
     "name": "stdin",
     "output_type": "stream",
     "text": [
      "enter a number 2\n"
     ]
    },
    {
     "name": "stdout",
     "output_type": "stream",
     "text": [
      "2  is a prime number\n"
     ]
    }
   ],
   "source": [
    "a=int(input(\"enter a number\"))\n",
    "def is_prime(n):\n",
    "    if n <= 1:\n",
    "         return false\n",
    "    for i in range (2,n):\n",
    "      if n % i == 0:\n",
    "          return False\n",
    "    return True\n",
    "if is_prime(a):\n",
    "    print(a,\" is a prime number\")\n",
    "else:\n",
    "    print(a,\" is not a prime number\")\n",
    "    \n",
    "\n"
   ]
  },
  {
   "cell_type": "code",
   "execution_count": null,
   "id": "64cafd7b-402d-4f82-861e-750afc56d1aa",
   "metadata": {},
   "outputs": [],
   "source": []
  }
 ],
 "metadata": {
  "kernelspec": {
   "display_name": "Python 3 (ipykernel)",
   "language": "python",
   "name": "python3"
  },
  "language_info": {
   "codemirror_mode": {
    "name": "ipython",
    "version": 3
   },
   "file_extension": ".py",
   "mimetype": "text/x-python",
   "name": "python",
   "nbconvert_exporter": "python",
   "pygments_lexer": "ipython3",
   "version": "3.12.7"
  }
 },
 "nbformat": 4,
 "nbformat_minor": 5
}
